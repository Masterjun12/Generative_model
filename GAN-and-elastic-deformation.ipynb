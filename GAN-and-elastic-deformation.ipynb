{
  "cells": [
    {
      "cell_type": "markdown",
      "metadata": {
        "id": "view-in-github",
        "colab_type": "text"
      },
      "source": [
        "<a href=\"https://colab.research.google.com/github/Masterjun12/Generative_model/blob/main/GAN-and-elastic-deformation.ipynb\" target=\"_parent\"><img src=\"https://colab.research.google.com/assets/colab-badge.svg\" alt=\"Open In Colab\"/></a>"
      ]
    },
    {
      "cell_type": "markdown",
      "id": "557f208e",
      "metadata": {
        "id": "557f208e"
      },
      "source": [
        "### MNIST data 불러오기(Test data를 사용하기 위함)"
      ]
    },
    {
      "cell_type": "code",
      "execution_count": null,
      "id": "190dc182",
      "metadata": {
        "id": "190dc182"
      },
      "outputs": [],
      "source": [
        "import tensorflow as tf\n",
        "from tensorflow.keras import layers\n",
        "from tensorflow.keras.datasets import mnist\n",
        "import numpy as np\n",
        "\n",
        "# MNIST data load\n",
        "(_, _), (test_images, test_labels) = mnist.load_data()\n",
        "\n",
        "test_images = np.reshape(test_images, (-1,784))"
      ]
    },
    {
      "cell_type": "code",
      "execution_count": null,
      "id": "29a0880d",
      "metadata": {
        "id": "29a0880d"
      },
      "outputs": [],
      "source": [
        "import numpy as np\n",
        "import cv2\n",
        "import random\n",
        "from scipy.ndimage import gaussian_filter, map_coordinates"
      ]
    },
    {
      "cell_type": "markdown",
      "id": "462a63d7",
      "metadata": {
        "id": "462a63d7"
      },
      "source": [
        "### 엘라스틱 디포메이션"
      ]
    },
    {
      "cell_type": "code",
      "execution_count": null,
      "id": "bae91bcb",
      "metadata": {
        "id": "bae91bcb"
      },
      "outputs": [],
      "source": [
        "def elastic_deformation(image, alpha, sigma):\n",
        "    random_state = np.random.RandomState(None)\n",
        "\n",
        "    shape = image.shape\n",
        "    dx = gaussian_filter((random_state.rand(*shape) * 2 - 1), sigma, mode=\"constant\", cval=0) * alpha\n",
        "    dy = gaussian_filter((random_state.rand(*shape) * 2 - 1), sigma, mode=\"constant\", cval=0) * alpha\n",
        "\n",
        "    x, y = np.meshgrid(np.arange(shape[1]), np.arange(shape[0]))\n",
        "    indices = np.reshape(y+dy, (-1, 1)), np.reshape(x+dx, (-1, 1))\n",
        "\n",
        "    distorted_image = map_coordinates(image.reshape(shape), indices, order=1, mode='reflect')\n",
        "    return distorted_image.reshape(shape)\n",
        "\n",
        "def generate_augmented_data(images, labels, num_images_per_label=100, alpha=50, sigma=5):\n",
        "    augmented_images = []\n",
        "    augmented_labels = []\n",
        "\n",
        "    for label in np.unique(labels):\n",
        "        label_indices = np.where(labels == label)[0]\n",
        "        selected_indices = np.random.choice(label_indices, min(num_images_per_label, len(label_indices)), replace=False)\n",
        "\n",
        "        for idx in selected_indices:\n",
        "            image = images[idx].reshape(28, 28)  # Reshape to 28x28\n",
        "            augmented_image = elastic_deformation(image, alpha, sigma)\n",
        "            augmented_images.append(augmented_image.flatten())  # Flatten back to (784,)\n",
        "            augmented_labels.append(label)\n",
        "\n",
        "    return np.array(augmented_images), np.array(augmented_labels)\n"
      ]
    },
    {
      "cell_type": "markdown",
      "id": "32079395",
      "metadata": {
        "id": "32079395"
      },
      "source": [
        "### 학습할 data 불러오기"
      ]
    },
    {
      "cell_type": "code",
      "execution_count": null,
      "id": "72b2e585",
      "metadata": {
        "colab": {
          "base_uri": "https://localhost:8080/"
        },
        "id": "72b2e585",
        "outputId": "c577a8fe-fe56-451f-c8a6-c939638e1d88"
      },
      "outputs": [
        {
          "output_type": "stream",
          "name": "stdout",
          "text": [
            "Augmented images and labels for iteration 1 with alpha 40 have been generated.\n",
            "Augmented images and labels for iteration 1 with alpha 50 have been generated.\n",
            "Augmented images and labels for iteration 1 with alpha 60 have been generated.\n",
            "Augmented images and labels for iteration 1 with alpha 70 have been generated.\n",
            "Augmented images and labels for iteration 2 with alpha 40 have been generated.\n",
            "Augmented images and labels for iteration 2 with alpha 50 have been generated.\n",
            "Augmented images and labels for iteration 2 with alpha 60 have been generated.\n",
            "Augmented images and labels for iteration 2 with alpha 70 have been generated.\n",
            "Augmented images and labels for iteration 3 with alpha 40 have been generated.\n",
            "Augmented images and labels for iteration 3 with alpha 50 have been generated.\n",
            "Augmented images and labels for iteration 3 with alpha 60 have been generated.\n",
            "Augmented images and labels for iteration 3 with alpha 70 have been generated.\n",
            "Shape of new_train_images: (13000, 784)\n",
            "Shape of new_train_labels: (13000,)\n"
          ]
        }
      ],
      "source": [
        "alpha_list = [40, 50, 60, 70]\n",
        "\n",
        "# Load extracted_train_images and extracted_train_labels\n",
        "extracted_train_images = np.load('/content/extracted_train_images.npy')\n",
        "extracted_train_labels = np.load('/content/extracted_train_labels.npy')\n",
        "\n",
        "all_augmented_images = []\n",
        "all_augmented_labels = []\n",
        "\n",
        "for i in range(1, 4):\n",
        "    for alpha in alpha_list:\n",
        "        # Generate augmented data\n",
        "        augmented_images, augmented_labels = generate_augmented_data(extracted_train_images, extracted_train_labels, alpha=alpha)\n",
        "\n",
        "        all_augmented_images.append(augmented_images)\n",
        "        all_augmented_labels.append(augmented_labels)\n",
        "\n",
        "        print(\"Augmented images and labels for iteration\", i, \"with alpha\", alpha, \"have been generated.\")\n",
        "\n",
        "# Concatenate original and augmented data\n",
        "new_train_images = np.concatenate((extracted_train_images, *all_augmented_images), axis=0)\n",
        "new_train_labels = np.concatenate((extracted_train_labels, *all_augmented_labels), axis=0)\n",
        "\n",
        "# Save new datasets\n",
        "np.save('new_train_images.npy', new_train_images)\n",
        "np.save('new_train_labels.npy', new_train_labels)\n",
        "\n",
        "print(\"Shape of new_train_images:\", new_train_images.shape)\n",
        "print(\"Shape of new_train_labels:\", new_train_labels.shape)\n"
      ]
    },
    {
      "cell_type": "code",
      "source": [],
      "metadata": {
        "id": "cuiUUTatJMCR"
      },
      "id": "cuiUUTatJMCR",
      "execution_count": null,
      "outputs": []
    },
    {
      "cell_type": "markdown",
      "id": "853e43d5",
      "metadata": {
        "id": "853e43d5"
      },
      "source": [
        "### 기존 이미지셋 확인"
      ]
    },
    {
      "cell_type": "code",
      "execution_count": null,
      "id": "b7fcc343",
      "metadata": {
        "colab": {
          "base_uri": "https://localhost:8080/",
          "height": 157
        },
        "id": "b7fcc343",
        "outputId": "10dbbd38-8722-4579-f75f-59015e93325c"
      },
      "outputs": [
        {
          "output_type": "display_data",
          "data": {
            "text/plain": [
              "<Figure size 1500x300 with 10 Axes>"
            ],
            "image/png": "[encoded data removed]"
          },
          "metadata": {}
        }
      ],
      "source": [
        "import matplotlib.pyplot as plt\n",
        "\n",
        "# Function to plot one image per label\n",
        "def plot_images_per_label(images, labels):\n",
        "    unique_labels = np.unique(labels)\n",
        "    fig, axes = plt.subplots(1, len(unique_labels), figsize=(15, 3))\n",
        "\n",
        "    for i, label in enumerate(unique_labels):\n",
        "        # Find the index of the first image with the current label\n",
        "        index = np.where(labels == label)[0][0]\n",
        "        # Plot the image\n",
        "        axes[i].imshow(images[index].reshape(28, 28), cmap='gray')\n",
        "        axes[i].set_title(f\"Label: {label}\")\n",
        "        axes[i].axis('off')\n",
        "\n",
        "    plt.show()\n",
        "\n",
        "# Plot one image per label\n",
        "plot_images_per_label(extracted_train_images, extracted_train_labels)\n"
      ]
    },
    {
      "cell_type": "markdown",
      "id": "89694d73",
      "metadata": {
        "id": "89694d73"
      },
      "source": [
        "### 엘라스틱 디포메이션된 이미지셋 확인"
      ]
    },
    {
      "cell_type": "code",
      "execution_count": 25,
      "id": "0e72fdb9",
      "metadata": {
        "colab": {
          "base_uri": "https://localhost:8080/",
          "height": 157
        },
        "id": "0e72fdb9",
        "outputId": "0bd4b0da-e695-4371-8530-971b2c7881f0"
      },
      "outputs": [
        {
          "output_type": "display_data",
          "data": {
            "text/plain": [
              "<Figure size 1500x300 with 10 Axes>"
            ],
            "image/png": "[encoded data removed]"
          },
          "metadata": {}
        }
      ],
      "source": [
        "import matplotlib.pyplot as plt\n",
        "\n",
        "plot_images_per_label(augmented_images, augmented_labels)\n"
      ]
    },
    {
      "cell_type": "code",
      "source": [
        "!pip install tensorflow==2.16.0rc0"
      ],
      "metadata": {
        "colab": {
          "base_uri": "https://localhost:8080/",
          "height": 1000
        },
        "id": "0Cqy_nX2Feil",
        "outputId": "2e91b0ef-7a8f-4ba1-a7d1-36a2718e1bf0"
      },
      "id": "0Cqy_nX2Feil",
      "execution_count": null,
      "outputs": [
        {
          "output_type": "stream",
          "name": "stdout",
          "text": [
            "Collecting tensorflow==2.16.0rc0\n",
            "  Downloading tensorflow-2.16.0rc0-cp310-cp310-manylinux_2_17_x86_64.manylinux2014_x86_64.whl (589.8 MB)\n",
            "\u001b[2K     \u001b[90m━━━━━━━━━━━━━━━━━━━━━━━━━━━━━━━━━━━━━━━━\u001b[0m \u001b[32m589.8/589.8 MB\u001b[0m \u001b[31m2.3 MB/s\u001b[0m eta \u001b[36m0:00:00\u001b[0m\n",
            "\u001b[?25hRequirement already satisfied: absl-py>=1.0.0 in /usr/local/lib/python3.10/dist-packages (from tensorflow==2.16.0rc0) (1.4.0)\n",
            "Requirement already satisfied: astunparse>=1.6.0 in /usr/local/lib/python3.10/dist-packages (from tensorflow==2.16.0rc0) (1.6.3)\n",
            "Requirement already satisfied: flatbuffers>=23.5.26 in /usr/local/lib/python3.10/dist-packages (from tensorflow==2.16.0rc0) (24.3.25)\n",
            "Requirement already satisfied: gast!=0.5.0,!=0.5.1,!=0.5.2,>=0.2.1 in /usr/local/lib/python3.10/dist-packages (from tensorflow==2.16.0rc0) (0.5.4)\n",
            "Requirement already satisfied: google-pasta>=0.1.1 in /usr/local/lib/python3.10/dist-packages (from tensorflow==2.16.0rc0) (0.2.0)\n",
            "Collecting h5py>=3.10.0 (from tensorflow==2.16.0rc0)\n",
            "  Downloading h5py-3.11.0-cp310-cp310-manylinux_2_17_x86_64.manylinux2014_x86_64.whl (5.3 MB)\n",
            "\u001b[2K     \u001b[90m━━━━━━━━━━━━━━━━━━━━━━━━━━━━━━━━━━━━━━━━\u001b[0m \u001b[32m5.3/5.3 MB\u001b[0m \u001b[31m104.6 MB/s\u001b[0m eta \u001b[36m0:00:00\u001b[0m\n",
            "\u001b[?25hRequirement already satisfied: libclang>=13.0.0 in /usr/local/lib/python3.10/dist-packages (from tensorflow==2.16.0rc0) (18.1.1)\n",
            "Collecting ml-dtypes~=0.3.1 (from tensorflow==2.16.0rc0)\n",
            "  Downloading ml_dtypes-0.3.2-cp310-cp310-manylinux_2_17_x86_64.manylinux2014_x86_64.whl (2.2 MB)\n",
            "\u001b[2K     \u001b[90m━━━━━━━━━━━━━━━━━━━━━━━━━━━━━━━━━━━━━━━━\u001b[0m \u001b[32m2.2/2.2 MB\u001b[0m \u001b[31m95.4 MB/s\u001b[0m eta \u001b[36m0:00:00\u001b[0m\n",
            "\u001b[?25hRequirement already satisfied: opt-einsum>=2.3.2 in /usr/local/lib/python3.10/dist-packages (from tensorflow==2.16.0rc0) (3.3.0)\n",
            "Requirement already satisfied: packaging in /usr/local/lib/python3.10/dist-packages (from tensorflow==2.16.0rc0) (24.0)\n",
            "Requirement already satisfied: protobuf!=4.21.0,!=4.21.1,!=4.21.2,!=4.21.3,!=4.21.4,!=4.21.5,<5.0.0dev,>=3.20.3 in /usr/local/lib/python3.10/dist-packages (from tensorflow==2.16.0rc0) (3.20.3)\n",
            "Requirement already satisfied: requests<3,>=2.21.0 in /usr/local/lib/python3.10/dist-packages (from tensorflow==2.16.0rc0) (2.31.0)\n",
            "Requirement already satisfied: setuptools in /usr/local/lib/python3.10/dist-packages (from tensorflow==2.16.0rc0) (59.8.0)\n",
            "Requirement already satisfied: six>=1.12.0 in /usr/local/lib/python3.10/dist-packages (from tensorflow==2.16.0rc0) (1.16.0)\n",
            "Requirement already satisfied: termcolor>=1.1.0 in /usr/local/lib/python3.10/dist-packages (from tensorflow==2.16.0rc0) (2.4.0)\n",
            "Requirement already satisfied: typing-extensions>=3.6.6 in /usr/local/lib/python3.10/dist-packages (from tensorflow==2.16.0rc0) (4.10.0)\n",
            "Requirement already satisfied: wrapt>=1.11.0 in /usr/local/lib/python3.10/dist-packages (from tensorflow==2.16.0rc0) (1.14.1)\n",
            "Requirement already satisfied: grpcio<2.0,>=1.24.3 in /usr/local/lib/python3.10/dist-packages (from tensorflow==2.16.0rc0) (1.62.1)\n",
            "Collecting tensorboard<2.17,>=2.16 (from tensorflow==2.16.0rc0)\n",
            "  Downloading tensorboard-2.16.2-py3-none-any.whl (5.5 MB)\n",
            "\u001b[2K     \u001b[90m━━━━━━━━━━━━━━━━━━━━━━━━━━━━━━━━━━━━━━━━\u001b[0m \u001b[32m5.5/5.5 MB\u001b[0m \u001b[31m100.4 MB/s\u001b[0m eta \u001b[36m0:00:00\u001b[0m\n",
            "\u001b[?25hCollecting keras>=3.0.0 (from tensorflow==2.16.0rc0)\n",
            "  Downloading keras-3.2.1-py3-none-any.whl (1.1 MB)\n",
            "\u001b[2K     \u001b[90m━━━━━━━━━━━━━━━━━━━━━━━━━━━━━━━━━━━━━━━━\u001b[0m \u001b[32m1.1/1.1 MB\u001b[0m \u001b[31m79.0 MB/s\u001b[0m eta \u001b[36m0:00:00\u001b[0m\n",
            "\u001b[?25hRequirement already satisfied: tensorflow-io-gcs-filesystem>=0.23.1 in /usr/local/lib/python3.10/dist-packages (from tensorflow==2.16.0rc0) (0.36.0)\n",
            "Requirement already satisfied: numpy<2.0.0,>=1.23.5 in /usr/local/lib/python3.10/dist-packages (from tensorflow==2.16.0rc0) (1.25.2)\n",
            "Requirement already satisfied: wheel<1.0,>=0.23.0 in /usr/local/lib/python3.10/dist-packages (from astunparse>=1.6.0->tensorflow==2.16.0rc0) (0.43.0)\n",
            "Requirement already satisfied: rich in /usr/local/lib/python3.10/dist-packages (from keras>=3.0.0->tensorflow==2.16.0rc0) (13.7.1)\n",
            "Collecting namex (from keras>=3.0.0->tensorflow==2.16.0rc0)\n",
            "  Downloading namex-0.0.7-py3-none-any.whl (5.8 kB)\n",
            "Collecting optree (from keras>=3.0.0->tensorflow==2.16.0rc0)\n",
            "  Downloading optree-0.11.0-cp310-cp310-manylinux_2_17_x86_64.manylinux2014_x86_64.whl (311 kB)\n",
            "\u001b[2K     \u001b[90m━━━━━━━━━━━━━━━━━━━━━━━━━━━━━━━━━━━━━━━━\u001b[0m \u001b[32m311.2/311.2 kB\u001b[0m \u001b[31m40.3 MB/s\u001b[0m eta \u001b[36m0:00:00\u001b[0m\n",
            "\u001b[?25hRequirement already satisfied: charset-normalizer<4,>=2 in /usr/local/lib/python3.10/dist-packages (from requests<3,>=2.21.0->tensorflow==2.16.0rc0) (3.3.2)\n",
            "Requirement already satisfied: idna<4,>=2.5 in /usr/local/lib/python3.10/dist-packages (from requests<3,>=2.21.0->tensorflow==2.16.0rc0) (3.6)\n",
            "Requirement already satisfied: urllib3<3,>=1.21.1 in /usr/local/lib/python3.10/dist-packages (from requests<3,>=2.21.0->tensorflow==2.16.0rc0) (2.0.7)\n",
            "Requirement already satisfied: certifi>=2017.4.17 in /usr/local/lib/python3.10/dist-packages (from requests<3,>=2.21.0->tensorflow==2.16.0rc0) (2024.2.2)\n",
            "Requirement already satisfied: markdown>=2.6.8 in /usr/local/lib/python3.10/dist-packages (from tensorboard<2.17,>=2.16->tensorflow==2.16.0rc0) (3.6)\n",
            "Collecting tensorboard-data-server<0.8.0,>=0.7.0 (from tensorboard<2.17,>=2.16->tensorflow==2.16.0rc0)\n",
            "  Downloading tensorboard_data_server-0.7.2-py3-none-manylinux_2_31_x86_64.whl (6.6 MB)\n",
            "\u001b[2K     \u001b[90m━━━━━━━━━━━━━━━━━━━━━━━━━━━━━━━━━━━━━━━━\u001b[0m \u001b[32m6.6/6.6 MB\u001b[0m \u001b[31m105.3 MB/s\u001b[0m eta \u001b[36m0:00:00\u001b[0m\n",
            "\u001b[?25hRequirement already satisfied: werkzeug>=1.0.1 in /usr/local/lib/python3.10/dist-packages (from tensorboard<2.17,>=2.16->tensorflow==2.16.0rc0) (3.0.2)\n",
            "Requirement already satisfied: MarkupSafe>=2.1.1 in /usr/local/lib/python3.10/dist-packages (from werkzeug>=1.0.1->tensorboard<2.17,>=2.16->tensorflow==2.16.0rc0) (2.1.5)\n",
            "Requirement already satisfied: markdown-it-py>=2.2.0 in /usr/local/lib/python3.10/dist-packages (from rich->keras>=3.0.0->tensorflow==2.16.0rc0) (3.0.0)\n",
            "Requirement already satisfied: pygments<3.0.0,>=2.13.0 in /usr/local/lib/python3.10/dist-packages (from rich->keras>=3.0.0->tensorflow==2.16.0rc0) (2.16.1)\n",
            "Requirement already satisfied: mdurl~=0.1 in /usr/local/lib/python3.10/dist-packages (from markdown-it-py>=2.2.0->rich->keras>=3.0.0->tensorflow==2.16.0rc0) (0.1.2)\n",
            "Installing collected packages: namex, tensorboard-data-server, optree, ml-dtypes, h5py, tensorboard, keras, tensorflow\n",
            "  Attempting uninstall: tensorboard-data-server\n",
            "    Found existing installation: tensorboard-data-server 0.6.1\n",
            "    Uninstalling tensorboard-data-server-0.6.1:\n",
            "      Successfully uninstalled tensorboard-data-server-0.6.1\n",
            "  Attempting uninstall: ml-dtypes\n",
            "    Found existing installation: ml-dtypes 0.2.0\n",
            "    Uninstalling ml-dtypes-0.2.0:\n",
            "      Successfully uninstalled ml-dtypes-0.2.0\n",
            "  Attempting uninstall: h5py\n",
            "    Found existing installation: h5py 3.9.0\n",
            "    Uninstalling h5py-3.9.0:\n",
            "      Successfully uninstalled h5py-3.9.0\n",
            "  Attempting uninstall: tensorboard\n",
            "    Found existing installation: tensorboard 2.7.0\n",
            "    Uninstalling tensorboard-2.7.0:\n",
            "      Successfully uninstalled tensorboard-2.7.0\n",
            "  Attempting uninstall: keras\n",
            "    Found existing installation: keras 2.8.0\n",
            "    Uninstalling keras-2.8.0:\n",
            "      Successfully uninstalled keras-2.8.0\n",
            "  Attempting uninstall: tensorflow\n",
            "    Found existing installation: tensorflow 2.8.0rc0\n",
            "    Uninstalling tensorflow-2.8.0rc0:\n",
            "      Successfully uninstalled tensorflow-2.8.0rc0\n",
            "\u001b[31mERROR: pip's dependency resolver does not currently take into account all the packages that are installed. This behaviour is the source of the following dependency conflicts.\n",
            "tf-keras 2.15.1 requires tensorflow<2.16,>=2.15, but you have tensorflow 2.16.0rc0 which is incompatible.\u001b[0m\u001b[31m\n",
            "\u001b[0mSuccessfully installed h5py-3.11.0 keras-3.2.1 ml-dtypes-0.3.2 namex-0.0.7 optree-0.11.0 tensorboard-2.16.2 tensorboard-data-server-0.7.2 tensorflow-2.16.0rc0\n"
          ]
        },
        {
          "output_type": "display_data",
          "data": {
            "application/vnd.colab-display-data+json": {
              "pip_warning": {
                "packages": [
                  "h5py",
                  "keras",
                  "ml_dtypes",
                  "tensorboard",
                  "tensorflow"
                ]
              },
              "id": "133cf84e13e44919ba191d14437d1cc1"
            }
          },
          "metadata": {}
        }
      ]
    },
    {
      "cell_type": "markdown",
      "source": [
        "### GAN model"
      ],
      "metadata": {
        "id": "J_Hb7bnuI4Gy"
      },
      "id": "J_Hb7bnuI4Gy"
    },
    {
      "cell_type": "code",
      "source": [
        "# import numpy as np\n",
        "# from keras.models import Sequential, Model\n",
        "# from keras.layers import Dense, Reshape, Flatten, Conv2D, Conv2DTranspose, LeakyReLU, Input\n",
        "# from keras.optimizers import Adam\n",
        "\n",
        "# # Load data\n",
        "# new_train_images = np.load('new_train_images.npy')\n",
        "# new_train_labels = np.load('new_train_labels.npy')\n",
        "\n",
        "# # Reshape\n",
        "# new_train_images = new_train_images.reshape(-1, 28, 28, 1)\n",
        "\n",
        "# # generator model\n",
        "# def build_generator(latent_dim):\n",
        "#     generator = Sequential()\n",
        "#     generator.add(Dense(7 * 7 * 64, input_dim=latent_dim))\n",
        "#     generator.add(LeakyReLU(alpha=0.2))\n",
        "#     generator.add(Reshape((7, 7, 64)))\n",
        "#     generator.add(Conv2DTranspose(128, (4,4), strides=(2,2), padding='same'))\n",
        "#     generator.add(LeakyReLU(alpha=0.2))\n",
        "#     generator.add(Conv2DTranspose(128, (4,4), strides=(2,2), padding='same'))\n",
        "#     generator.add(LeakyReLU(alpha=0.2))\n",
        "#     generator.add(Conv2D(1, (7,7), activation='sigmoid', padding='same'))\n",
        "#     return generator\n",
        "\n",
        "# # discriminator model\n",
        "# def build_discriminator(input_shape):\n",
        "#     discriminator = Sequential()\n",
        "#     discriminator.add(Conv2D(64, (3,3), strides=(2,2), padding='same', input_shape=input_shape))\n",
        "#     discriminator.add(LeakyReLU(alpha=0.2))\n",
        "#     discriminator.add(Conv2D(128, (3,3), strides=(2,2), padding='same'))\n",
        "#     discriminator.add(LeakyReLU(alpha=0.2))\n",
        "#     discriminator.add(Flatten())\n",
        "#     discriminator.add(Dense(1, activation='sigmoid'))\n",
        "#     return discriminator\n",
        "\n",
        "# # GAN model\n",
        "# def build_gan(generator, discriminator):\n",
        "#     discriminator.trainable = False\n",
        "#     gan_input = Input(shape=(latent_dim,))\n",
        "#     x = generator(gan_input)\n",
        "#     gan_output = discriminator(x)\n",
        "#     gan = Model(gan_input, gan_output)\n",
        "#     gan.compile(loss='binary_crossentropy', optimizer=Adam(learning_rate=0.0002, beta_1=0.5))\n",
        "#     return gan\n",
        "\n",
        "# # hyperparameters\n",
        "# latent_dim = 100\n",
        "# image_shape = new_train_images.shape[1:]\n",
        "# generator = build_generator(latent_dim)\n",
        "# discriminator = build_discriminator(image_shape)\n",
        "# gan = build_gan(generator, discriminator)\n",
        "\n",
        "# # Generate random latent\n",
        "# latent_vectors = np.random.normal(size=(len(new_train_images), latent_dim))\n",
        "\n",
        "# # Train\n",
        "# gan.fit(latent_vectors, np.ones(len(new_train_images)), epochs=100, batch_size=32)\n",
        "\n",
        "# # Save\n",
        "# generator.save_weights('generator_weights.h5')\n"
      ],
      "metadata": {
        "id": "kP0Gc3SFA5CH"
      },
      "id": "kP0Gc3SFA5CH",
      "execution_count": null,
      "outputs": []
    },
    {
      "cell_type": "code",
      "source": [
        "import numpy as np\n",
        "from keras.models import Sequential\n",
        "from keras.layers import Dense, Reshape, Flatten, Conv2D, Conv2DTranspose, LeakyReLU\n",
        "from keras.optimizers import Adam\n",
        "\n",
        "# Load data\n",
        "existing_train_images = np.load('new_train_images.npy')\n",
        "existing_train_labels = np.load('new_train_labels.npy')\n",
        "\n",
        "# generator model\n",
        "latent_dim = 100\n",
        "generator = build_generator(latent_dim)\n",
        "generator.load_weights('generator_weights.h5')\n",
        "\n",
        "# Generate\n",
        "num_generated_images = 5000\n",
        "latent_vectors = np.random.normal(size=(num_generated_images, latent_dim))\n",
        "generated_images = generator.predict(latent_vectors)\n",
        "\n",
        "# Reshape generated images\n",
        "generated_images = generated_images.reshape(-1, 28*28)\n",
        "\n",
        "# Combine generated images\n",
        "combined_images = np.concatenate((existing_train_images, generated_images), axis=0)\n",
        "combined_labels = np.concatenate((existing_train_labels, np.ones(num_generated_images)), axis=0)\n",
        "\n",
        "# Save\n",
        "np.save('new_train_images.npy', combined_images)\n",
        "np.save('new_train_labels.npy', combined_labels)\n",
        "\n",
        "print(\"Combined data has been saved to new npy files.\")\n"
      ],
      "metadata": {
        "id": "_fhQurS1A7FF",
        "colab": {
          "base_uri": "https://localhost:8080/"
        },
        "outputId": "b61a34ce-6a1c-4449-d85c-a9e783b4e9f9"
      },
      "id": "_fhQurS1A7FF",
      "execution_count": 28,
      "outputs": [
        {
          "output_type": "stream",
          "name": "stderr",
          "text": [
            "WARNING:tensorflow:AutoGraph could not transform <function Model.make_predict_function.<locals>.predict_function at 0x7ae8652bd5a0> and will run it as-is.\n",
            "Cause: Unable to locate the source code of <function Model.make_predict_function.<locals>.predict_function at 0x7ae8652bd5a0>. Note that functions defined in certain environments, like the interactive Python shell, do not expose their source code. If that is the case, you should define them in a .py source file. If you are certain the code is graph-compatible, wrap the call using @tf.autograph.experimental.do_not_convert. Original error: could not get source code\n",
            "To silence this warning, decorate the function with @tf.autograph.experimental.do_not_convert\n"
          ]
        },
        {
          "output_type": "stream",
          "name": "stdout",
          "text": [
            "WARNING: AutoGraph could not transform <function Model.make_predict_function.<locals>.predict_function at 0x7ae8652bd5a0> and will run it as-is.\n",
            "Cause: Unable to locate the source code of <function Model.make_predict_function.<locals>.predict_function at 0x7ae8652bd5a0>. Note that functions defined in certain environments, like the interactive Python shell, do not expose their source code. If that is the case, you should define them in a .py source file. If you are certain the code is graph-compatible, wrap the call using @tf.autograph.experimental.do_not_convert. Original error: could not get source code\n",
            "To silence this warning, decorate the function with @tf.autograph.experimental.do_not_convert\n",
            "157/157 [==============================] - 0s 2ms/step\n",
            "Combined data has been saved to new npy files.\n"
          ]
        }
      ]
    },
    {
      "cell_type": "code",
      "source": [
        "print(new_train_images.shape)\n",
        "print(new_train_labels.shape)"
      ],
      "metadata": {
        "colab": {
          "base_uri": "https://localhost:8080/"
        },
        "id": "JzvnH8UsLbGj",
        "outputId": "136b7e0c-1197-4328-e8ca-b70068d6480a"
      },
      "id": "JzvnH8UsLbGj",
      "execution_count": 32,
      "outputs": [
        {
          "output_type": "stream",
          "name": "stdout",
          "text": [
            "(18000, 784)\n",
            "(18000,)\n"
          ]
        }
      ]
    },
    {
      "cell_type": "markdown",
      "id": "254dc55a",
      "metadata": {
        "id": "254dc55a"
      },
      "source": [
        "### 모델 설정"
      ]
    },
    {
      "cell_type": "code",
      "execution_count": 29,
      "id": "f1e0d3c5",
      "metadata": {
        "colab": {
          "base_uri": "https://localhost:8080/"
        },
        "id": "f1e0d3c5",
        "outputId": "7f2f4f49-537c-4d78-c05d-0f20de337b41"
      },
      "outputs": [
        {
          "output_type": "stream",
          "name": "stdout",
          "text": [
            "Epoch 1/5\n",
            "407/407 [==============================] - 2s 2ms/step - loss: 1.0500 - accuracy: 0.6644\n",
            "Epoch 2/5\n",
            "407/407 [==============================] - 1s 2ms/step - loss: 0.5811 - accuracy: 0.8218\n",
            "Epoch 3/5\n",
            "407/407 [==============================] - 1s 2ms/step - loss: 0.4014 - accuracy: 0.8778\n",
            "Epoch 4/5\n",
            "407/407 [==============================] - 1s 2ms/step - loss: 0.2874 - accuracy: 0.9145\n",
            "Epoch 5/5\n",
            "407/407 [==============================] - 1s 2ms/step - loss: 0.2121 - accuracy: 0.9402\n",
            "313/313 - 1s - loss: 21.5318 - accuracy: 0.9536 - 553ms/epoch - 2ms/step\n",
            "\n",
            "Test accuracy: 0.9535999894142151\n"
          ]
        }
      ],
      "source": [
        "# Define the model\n",
        "model = tf.keras.Sequential([\n",
        "    layers.Input(shape=(784,)),\n",
        "    layers.Dense(512, activation='relu'),\n",
        "    layers.Dense(10, activation='softmax')\n",
        "])\n",
        "\n",
        "# Compile the model\n",
        "model.compile(optimizer='adam',\n",
        "              loss='sparse_categorical_crossentropy',\n",
        "              metrics=['accuracy'])\n",
        "\n",
        "# Train the model using the extracted samples\n",
        "model.fit(new_train_images, new_train_labels, epochs=5, batch_size=32, verbose=1)\n",
        "\n",
        "# Evaluate the model on the test data\n",
        "test_loss, test_acc = model.evaluate(test_images, test_labels, verbose=2)\n",
        "print('\\nTest accuracy:', test_acc)"
      ]
    },
    {
      "cell_type": "markdown",
      "id": "ad3f1151",
      "metadata": {
        "id": "ad3f1151"
      },
      "source": [
        "### 위 문제에서 모델의 모든 부분(구조, 옵티마이저, 손실함수, 에폭, 배치사이즈 등)은 고정시킨 상태에서 주어진 extracted_train_images를 조작하여 test data에 대한 accuracy를 향상시키세요.\n",
        "#### * 단, MNIST data의 train data의 사용을 금지함, extracted_train_images 에 대해서 변환은 사용 가능"
      ]
    },
    {
      "cell_type": "code",
      "execution_count": null,
      "id": "e0821381",
      "metadata": {
        "id": "e0821381"
      },
      "outputs": [],
      "source": []
    }
  ],
  "metadata": {
    "kernelspec": {
      "display_name": "Python 3",
      "name": "python3"
    },
    "language_info": {
      "codemirror_mode": {
        "name": "ipython",
        "version": 3
      },
      "file_extension": ".py",
      "mimetype": "text/x-python",
      "name": "python",
      "nbconvert_exporter": "python",
      "pygments_lexer": "ipython3",
      "version": "3.8.14"
    },
    "colab": {
      "provenance": [],
      "machine_shape": "hm",
      "gpuType": "L4",
      "include_colab_link": true
    },
    "accelerator": "GPU"
  },
  "nbformat": 4,
  "nbformat_minor": 5
}